{
 "cells": [
  {
   "cell_type": "markdown",
   "metadata": {},
   "source": [
    "Primeiro eu vou importar um SDV de dados e definir os dados de treinamento e as label"
   ]
  },
  {
   "cell_type": "code",
   "execution_count": 8,
   "metadata": {},
   "outputs": [],
   "source": [
    "import pandas as pd\n",
    "from sklearn.svm import LinearSVC\n",
    "from sklearn.model_selection import train_test_split\n",
    "from sklearn.metrics import accuracy_score\n",
    "from utils import UtilsDescriptions\n",
    "\n",
    "url = 'https://gist.githubusercontent.com/guilhermesilveira/2d2efa37d66b6c84a722ea627a897ced/raw/10968b997d885cbded1c92938c7a9912ba41c615/tracking.csv'\n",
    "\n",
    "data = pd.read_csv(url)\n",
    "data_x = data[['home', 'how_it_works', 'contact']]\n",
    "data_y = data['bought']\n"
   ]
  },
  {
   "cell_type": "markdown",
   "metadata": {},
   "source": [
    "### Separando os dados\n",
    "\n",
    "Agora vamos separar os dados para trabalharmos com a previsao, separando em 25 / 75\n",
    "isso significa que 75% dos dados vão ser usado com treino e o restante (25%) serão os dados que vamos tentar prever.\n",
    "\n",
    "exemplo:\n",
    "    Supondo que nossa lista tenha 99 linhas, a funcao train_test_split\n",
    "    faz o equivalente a isso:\n",
    "\n",
    "````python\n",
    "def train_test_split(x, y, test_size):\n",
    "    train_x = data_x[:75]\n",
    "    train_y = data_y[:75]\n",
    "    test_x = data_x[75:]\n",
    "    test_y = data_y[75:]\n",
    "\n",
    "    return (train_x , test_x, train_y, test_y )\n",
    "````"
   ]
  },
  {
   "cell_type": "code",
   "execution_count": 9,
   "metadata": {},
   "outputs": [],
   "source": [
    "\n",
    "\n",
    "train_x , test_x, train_y, test_y = train_test_split(\n",
    "    data_x, \n",
    "    data_y, \n",
    "    test_size=0.25, # 25%\n",
    ")\n"
   ]
  },
  {
   "cell_type": "markdown",
   "metadata": {},
   "source": [
    "\n",
    "### Fator de aleatoriedade na separação\n",
    "\n",
    "é importante lembrar que por padrão, essa separação é aleatórios. por isso definimos um \"padrão de aleatoriedade\" para opininar nessa aleatoriedade e termos uma acuracia mais replicável."
   ]
  },
  {
   "cell_type": "code",
   "execution_count": 10,
   "metadata": {},
   "outputs": [],
   "source": [
    "SEED = 20\n",
    "train_x , test_x, train_y, test_y = train_test_split(\n",
    "    data_x, \n",
    "    data_y, \n",
    "    random_state=SEED,  \n",
    "    test_size=0.25,\n",
    ")\n"
   ]
  },
  {
   "cell_type": "markdown",
   "metadata": {},
   "source": [
    "## Fator de proporcionalidade\n",
    "\n",
    "Precisamos ter em mente que se os dados de treino não forem proporcionais aos dados que serão testados, os valores poderão ser comprometidos. Veja o exemplo:"
   ]
  },
  {
   "cell_type": "code",
   "execution_count": 11,
   "metadata": {},
   "outputs": [
    {
     "name": "stdout",
     "output_type": "stream",
     "text": [
      "A proporcão do treino é de 2 para 1\n",
      "Equnadom  a proporção do teste é de 3 para 1\n"
     ]
    }
   ],
   "source": [
    "log = UtilsDescriptions()\n",
    "\n",
    "\n",
    "SEED = 20\n",
    "_ , _ , train_y, test_y  = train_test_split(\n",
    "    data_x, \n",
    "    data_y, \n",
    "    random_state=SEED,  \n",
    "    test_size=0.25,\n",
    ")\n",
    "\n",
    "log.represent_to_proportions(train_y,test_y)\n"
   ]
  },
  {
   "cell_type": "markdown",
   "metadata": {},
   "source": [
    "Perceba então que as proporções não batem. 2/1 e 3/1. \n",
    "Então, para trabalhar com os dois dados mais proporcionais, usamos o atributo *stratify* que vai extratificar os dados de x em relação y"
   ]
  },
  {
   "cell_type": "code",
   "execution_count": 12,
   "metadata": {},
   "outputs": [
    {
     "name": "stdout",
     "output_type": "stream",
     "text": [
      "A proporcão do treino é de 2 para 1\n",
      "Equnadom  a proporção do teste é de 2 para 1\n"
     ]
    }
   ],
   "source": [
    "log = UtilsDescriptions()\n",
    "\n",
    "SEED = 20\n",
    "train_x , test_x, train_y, test_y = train_test_split(\n",
    "    data_x, \n",
    "    data_y, \n",
    "    random_state=SEED,  \n",
    "    test_size=0.25,\n",
    "    stratify=data_y\n",
    ")\n",
    "\n",
    "log.represent_to_proportions(train_y,test_y)"
   ]
  },
  {
   "cell_type": "markdown",
   "metadata": {},
   "source": [
    "Perceba que agora, tanto os dados de teste como o dados de treino, foram ordenados de forma que ambos estejam nas proporcoes de 2/1"
   ]
  },
  {
   "cell_type": "markdown",
   "metadata": {},
   "source": [
    "Agora vamos fazer o treinamento"
   ]
  },
  {
   "cell_type": "code",
   "execution_count": 13,
   "metadata": {},
   "outputs": [
    {
     "name": "stdout",
     "output_type": "stream",
     "text": [
      "[0 1 0 0 1 0 0 0 0 0 1 0 0 1 0 0 0 0 0 1 0 0 1 0 1]\n",
      "hit_rate 96.00\n"
     ]
    }
   ],
   "source": [
    "\n",
    "\n",
    "model = LinearSVC()\n",
    "model.fit(train_x, train_y)\n",
    "predictions = model.predict(test_x)\n",
    "accuracy_score = accuracy_score(\n",
    "    test_y,\n",
    "    predictions\n",
    ") * 100\n",
    "\n",
    "print(predictions)\n",
    "print(\"hit_rate %.2f\" % accuracy_score)\n"
   ]
  },
  {
   "cell_type": "markdown",
   "metadata": {},
   "source": [
    "Fonte de aprendizagem: [https://www.alura.com.br/?utm_term=&utm_campaign=%5Bfundo%5D+teste+performance+max&utm_source=adwords&utm_medium=ppc&hsa_acc=7722097246&hsa_cam=18663119163&hsa_grp=&hsa_ad=&hsa_src=x&hsa_tgt=&hsa_kw=&hsa_mt=&hsa_net=adwords&hsa_ver=3&gclid=Cj0KCQjwteOaBhDuARIsADBqReg4_THqhgJIZ6CRucR2ZYWbr8zA8MxTFRfNB3UGa8_UBEEwe7zRwnoaAvMSEALw_wcB](http://https://www.alura.com.br/?utm_term=&utm_campaign=%5Bfundo%5D+teste+performance+max&utm_source=adwords&utm_medium=ppc&hsa_acc=7722097246&hsa_cam=18663119163&hsa_grp=&hsa_ad=&hsa_src=x&hsa_tgt=&hsa_kw=&hsa_mt=&hsa_net=adwords&hsa_ver=3&gclid=Cj0KCQjwteOaBhDuARIsADBqReg4_THqhgJIZ6CRucR2ZYWbr8zA8MxTFRfNB3UGa8_UBEEwe7zRwnoaAvMSEALw_wcB \"https://www.alura.com.br/?utm_term=&utm_campaign=%5Bfundo%5D+teste+performance+max&utm_source=adwords&utm_medium=ppc&hsa_acc=7722097246&hsa_cam=18663119163&hsa_grp=&hsa_ad=&hsa_src=x&hsa_tgt=&hsa_kw=&hsa_mt=&hsa_net=adwords&hsa_ver=3&gclid=Cj0KCQjwteOaBhDuARIsADBqReg4_THqhgJIZ6CRucR2ZYWbr8zA8MxTFRfNB3UGa8_UBEEwe7zRwnoaAvMSEALw_wcB\")"
   ]
  }
 ],
 "metadata": {
  "kernelspec": {
   "display_name": "Python 3.9.13 ('env': venv)",
   "language": "python",
   "name": "python3"
  },
  "language_info": {
   "codemirror_mode": {
    "name": "ipython",
    "version": 3
   },
   "file_extension": ".py",
   "mimetype": "text/x-python",
   "name": "python",
   "nbconvert_exporter": "python",
   "pygments_lexer": "ipython3",
   "version": "3.9.13"
  },
  "orig_nbformat": 4,
  "vscode": {
   "interpreter": {
    "hash": "ebd144f8ddfcaf33046e8e5d3280a267824606ae461e3c4ad40400176dd22adf"
   }
  }
 },
 "nbformat": 4,
 "nbformat_minor": 2
}
